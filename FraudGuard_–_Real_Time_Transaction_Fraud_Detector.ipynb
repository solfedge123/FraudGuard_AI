{
  "nbformat": 4,
  "nbformat_minor": 0,
  "metadata": {
    "colab": {
      "provenance": [],
      "gpuType": "T4"
    },
    "kernelspec": {
      "name": "python3",
      "display_name": "Python 3"
    },
    "language_info": {
      "name": "python"
    },
    "accelerator": "GPU"
  },
  "cells": [
    {
      "cell_type": "code",
      "source": [
        "%%writefile readme.md\n",
        "\n",
        "\n",
        "#  FraudGuard Real-Time Transaction Fraud Detector\n",
        "\n",
        "**A production-ready, explainable AI system that detects fraudulent transactions in real time — and tells you *why*.**\n",
        "\n",
        "Built with Python, XGBoost, SHAP, and Gradio, **FraudGuard** combines supervised and unsupervised learning to deliver accurate, transparent, and instant fraud predictions. Perfect for fintech, payment gateways, or any transaction-based platform.\n",
        "\n",
        "\n",
        "##  Why This Stands Out\n",
        "\n",
        " **End-to-End ML Pipeline**  From synthetic data generation to real-time inference\n",
        " **Explainable AI (XAI)**  SHAP-powered waterfall plots show *exactly why* a transaction was flagged\n",
        " **Dual-Model Intelligence** Combines XGBoost (supervised) + Isolation Forest (anomaly detection)\n",
        " **Production-Ready** Modular code, model persistence, and Gradio UI for instant interaction\n",
        " **Hiring-Ready Project**  Demonstrates skills in ML, engineering, and business impact\n",
        "\n",
        " *This isn't just a notebook — it's a deployable fraud detection service.*\n",
        "\n",
        "---\n",
        "\n",
        "##  How It Works\n",
        "\n",
        "### 1. **Synthetic Data Engine**\n",
        "Generates realistic transaction data with:\n",
        "- Log-normal amounts\n",
        "- Risky countries (Nigeria, Russia, China)\n",
        "- High-risk categories (Crypto, Gambling)\n",
        "- 5% fraud rate (realistic imbalance)\n",
        "\n",
        "### 2. **Dual-Model Detection**\n",
        "| Model | Type | Role |\n",
        "|------|------|------|\n",
        "| **XGBoost Classifier** | Supervised | Predicts fraud probability |\n",
        "| **Isolation Forest** | Unsupervised | Detects anomalous behavior |\n",
        "\n",
        "### 3. **Explainability with SHAP**\n",
        "Every prediction comes with a **waterfall plot** showing:\n",
        "- Which features pushed the decision toward fraud\n",
        "- Feature impact in real monetary/behavioral terms\n",
        "- Transparency for compliance & trust\n",
        "\n",
        "### 4. **Real-Time Gradio App**\n",
        "Interactive web interface where users can:\n",
        "- Input transaction details\n",
        "- Get instant risk assessment\n",
        "- See model reasoning (no black box!)\n",
        "\n",
        "---\n",
        "\n",
        "##  Sample Output\n"
      ],
      "metadata": {
        "colab": {
          "base_uri": "https://localhost:8080/"
        },
        "id": "O1ZPpFJnXWOV",
        "outputId": "5ceae10f-4d16-4058-9ffc-bce6626749e9"
      },
      "execution_count": null,
      "outputs": [
        {
          "output_type": "stream",
          "name": "stdout",
          "text": [
            "Overwriting readme.md\n"
          ]
        }
      ]
    },
    {
      "cell_type": "code",
      "source": [
        "%%writefile requirements.txt\n",
        "pandas\n",
        "numpy\n",
        "scikit-learn\n",
        "xgboost\n",
        "shap\n",
        "gradio\n",
        "joblib\n",
        "matplotlib"
      ],
      "metadata": {
        "colab": {
          "base_uri": "https://localhost:8080/"
        },
        "id": "VY7T1MhOXLgJ",
        "outputId": "b9002cc4-0ee7-456c-8f86-ac6924c93ec5"
      },
      "execution_count": null,
      "outputs": [
        {
          "output_type": "stream",
          "name": "stdout",
          "text": [
            "Overwriting requirements.txt\n"
          ]
        }
      ]
    },
    {
      "cell_type": "code",
      "source": [
        "!pip install -r requirements.txt"
      ],
      "metadata": {
        "id": "LkPWYJ-yawna"
      },
      "execution_count": null,
      "outputs": []
    },
    {
      "cell_type": "code",
      "source": [
        "%%writefile parser.py\n",
        "\n",
        "import pandas as pd\n",
        "import numpy as np\n",
        "from sklearn.preprocessing import StandardScaler\n",
        "\n",
        "def prase_transaction_data(file_path):\n",
        "  \"\"\"prase and clean transaction data\"\"\"\n",
        "  df = pd.read_csv(file_path)\n",
        "\n",
        "  df = df.dropna()\n",
        "  df['hour'] = pd.to_datetime(df['timestamp']).dt.hour\n",
        "  df['amount_log'] = np.log1p(df['amount'])\n",
        "  df['is_high_risk_country'] = df['country'].apply(lambda x: 1 if x in [\"Nigeria\", \"Russia\", \"China\"] else 0)\n",
        "\n",
        "  return df\n",
        "\n",
        "def preprocess_for_model(df):\n",
        "    \"\"\"Prepare data for fraud detection model\"\"\"\n",
        "    features = ['amount_log', 'hour','is_high_risk_country','merchant_category']\n",
        "    X = df[features]\n",
        "    y = df.get('fraud_label', None)\n",
        "\n",
        "    #One-hot encode category\n",
        "    X = pd.get_dummies(X,columns=['merchant_category'],drop_first=True)\n",
        "\n",
        "    #Normalize\n",
        "    scaler = StandardScaler()\n",
        "    X_scaled = scaler.fit_transform(X)\n",
        "\n",
        "    return X_scaled, y\n",
        "\n"
      ],
      "metadata": {
        "colab": {
          "base_uri": "https://localhost:8080/"
        },
        "id": "PRrF0czbDvyP",
        "outputId": "67a573dd-3906-47bc-a8fb-2c4e033fb98d"
      },
      "execution_count": null,
      "outputs": [
        {
          "output_type": "stream",
          "name": "stdout",
          "text": [
            "Overwriting parser.py\n"
          ]
        }
      ]
    },
    {
      "cell_type": "code",
      "source": [
        "%%writefile fraud_model.py\n",
        "\n",
        "import pandas as pd\n",
        "import numpy as np\n",
        "from sklearn.ensemble import IsolationForest\n",
        "from xgboost import XGBClassifier\n",
        "from sklearn.model_selection import train_test_split\n",
        "from sklearn.metrics import classification_report\n",
        "import shap\n",
        "import joblib\n",
        "\n",
        "def generate_fraud_dataset(num_samples=10000):\n",
        "    # Base data\n",
        "    amount = np.random.lognormal(3, 0.5, num_samples)\n",
        "    hour = np.random.randint(0, 24, num_samples)\n",
        "    country = np.random.choice([\"US\", \"Nigeria\", \"Russia\", \"China\", \"UK\"], num_samples)\n",
        "    merchant_category = np.random.choice([\"Retail\", \"Health\", \"Crypto\", \"Gambling\", \"Travel\"], num_samples)\n",
        "    is_weekend = np.random.choice([0, 1], num_samples)\n",
        "\n",
        "\n",
        "    fraud_risk = np.zeros(num_samples)\n",
        "\n",
        "\n",
        "    fraud_risk += (amount > 1000).astype(float) * 0.3\n",
        "\n",
        "\n",
        "    high_risk_countries = [\"Nigeria\", \"Russia\", \"China\"]\n",
        "    fraud_risk += np.isin(country, high_risk_countries).astype(float) * 0.3\n",
        "\n",
        "\n",
        "    risky_merchants = [\"Crypto\", \"Gambling\"]\n",
        "    fraud_risk += np.isin(merchant_category, risky_merchants).astype(float) * 0.3\n",
        "\n",
        "\n",
        "    fraud_risk += ((hour >= 2) & (hour <= 5)).astype(float) * 0.1\n",
        "\n",
        "    # Combine and cap at 0.95\n",
        "    fraud_risk = np.clip(fraud_risk, 0, 0.95)\n",
        "\n",
        "    # Generate target: higher fraud_risk → higher chance of fraud\n",
        "    target = (np.random.rand(num_samples) < fraud_risk).astype(int)\n",
        "\n",
        "    return pd.DataFrame({\n",
        "        \"amount\": amount,\n",
        "        \"hour\": hour,\n",
        "        \"country\": country,\n",
        "        \"merchant_category\": merchant_category,\n",
        "        \"is_weekend\": is_weekend,\n",
        "        \"target\": target\n",
        "    })\n",
        "\n",
        "    # Train models\n",
        "df = generate_fraud_dataset()\n",
        "df['amount_log'] = np.log1p(df['amount'])\n",
        "df = pd.get_dummies(df, columns=[\"country\", \"merchant_category\"])\n",
        "for col in df.columns:\n",
        "    if df[col].dtype == 'bool':\n",
        "        df[col] = df[col].astype(int)\n",
        "\n",
        "X = df.drop(\"target\", axis=1)\n",
        "y = df[\"target\"]\n",
        "X_train, X_test, y_train, y_test = train_test_split(X, y, test_size=0.2, random_state=42)\n",
        "\n",
        "# Train Isolation Forest\n",
        "iso_forest = IsolationForest(contamination=0.05, random_state=42)\n",
        "iso_forest.fit(X_train)\n",
        "joblib.dump(iso_forest, \"iso_forest.pkl\")\n",
        "\n",
        "# Train XGBoost\n",
        "xgb = XGBClassifier(use_label_encoder=False, eval_metric='logloss', random_state=42)\n",
        "xgb.fit(X_train, y_train)\n",
        "\n",
        "\n",
        "xgb.get_booster().save_model(\"xgb_fraud.json\")\n",
        "\n",
        "joblib.dump(X_train.columns.tolist(), \"train_columns.pkl\")\n",
        "\n",
        "# Evaluate\n",
        "preds = xgb.predict(X_test)\n",
        "print(classification_report(y_test, preds))\n",
        "print(\" Models saved: iso_forest.pkl, xgb_fraud.json, train_columns.pkl\")\n",
        "\n"
      ],
      "metadata": {
        "colab": {
          "base_uri": "https://localhost:8080/"
        },
        "id": "SdtE0zKVKeW9",
        "outputId": "6047d2ef-4fb1-4cc3-c50b-ff451c9da8d6"
      },
      "execution_count": null,
      "outputs": [
        {
          "output_type": "stream",
          "name": "stdout",
          "text": [
            "Overwriting fraud_model.py\n"
          ]
        }
      ]
    },
    {
      "cell_type": "code",
      "source": [
        "!ls -l *.pkl"
      ],
      "metadata": {
        "colab": {
          "base_uri": "https://localhost:8080/"
        },
        "id": "3DqoW2klanxR",
        "outputId": "13177482-64fd-4d1e-d6a7-ae99c49f4517"
      },
      "execution_count": null,
      "outputs": [
        {
          "output_type": "stream",
          "name": "stdout",
          "text": [
            "-rw-r--r-- 1 root root 1911161 Jul 31 09:42 iso_forest.pkl\n",
            "-rw-r--r-- 1 root root     272 Jul 31 09:42 train_columns.pkl\n",
            "-rw-r--r-- 1 root root 1150093 Jul 31 09:03 xgb_explainer.pkl\n",
            "-rw-r--r-- 1 root root  350795 Jul 31 09:03 xgb_fraud.pkl\n"
          ]
        }
      ]
    },
    {
      "cell_type": "code",
      "source": [
        "%%writefile app.py\n",
        "\n",
        "import gradio as gr\n",
        "import joblib\n",
        "import pandas as pd\n",
        "import shap\n",
        "import xgboost as xgb\n",
        "from xgboost import XGBClassifier\n",
        "import numpy as np\n",
        "import matplotlib\n",
        "matplotlib.use('Agg')\n",
        "import matplotlib.pyplot as plt\n",
        "import os\n",
        "\n",
        "try:\n",
        "    iso_forest = joblib.load(\"iso_forest.pkl\")\n",
        "    # Load XGBoost from JSON\n",
        "    xgb = XGBClassifier()\n",
        "    xgb.load_model(\"xgb_fraud.json\")\n",
        "\n",
        "    # Load training columns\n",
        "    train_cols = joblib.load(\"train_columns.pkl\")\n",
        "\n",
        "except FileNotFoundError as e:\n",
        "    raise FileNotFoundError(f\"File missing: {e}. Did you run fraud_model.py?\")\n",
        "\n",
        "\n",
        "explainer = shap.Explainer(xgb, pd.DataFrame(np.zeros((1, len(train_cols))), columns=train_cols))\n",
        "\n",
        "def predict_fraud(amount, hour, country, merchant_category, is_weekend):\n",
        "    try:\n",
        "        amount = float(amount)\n",
        "        hour = int(hour)\n",
        "        is_weekend = int(is_weekend)\n",
        "    except ValueError:\n",
        "        return \" Invalid input: Please enter valid numbers.\", None\n",
        "\n",
        "    input_data = pd.DataFrame({\n",
        "        \"amount\": [amount],\n",
        "        \"hour\": [hour],\n",
        "        \"is_weekend\": [is_weekend],\n",
        "        \"country\": [country],\n",
        "        \"merchant_category\": [merchant_category]\n",
        "    })\n",
        "\n",
        "    input_data['amount_log'] = np.log1p(input_data['amount'])\n",
        "    input_data = pd.get_dummies(input_data, columns=[\"country\", \"merchant_category\"])\n",
        "    input_data = input_data.reindex(columns=train_cols, fill_value=0)\n",
        "\n",
        "    risk_score = iso_forest.score_samples(input_data)[0]\n",
        "    prediction = xgb.predict(input_data)[0]\n",
        "\n",
        "\n",
        "    shap_values = explainer(input_data)\n",
        "    fig, ax = plt.subplots(figsize=(8, 5))\n",
        "    shap.plots.waterfall(shap_values[0], max_display=6, show=False)\n",
        "    plt.tight_layout()\n",
        "    plt.close()\n",
        "\n",
        "    if prediction == 1:\n",
        "        return f\" FRAUD DETECTED! Anomaly Score: {risk_score:.3f}\", fig\n",
        "    else:\n",
        "        return f\" No Fraud. Anomaly Score: {risk_score:.3f}\", fig\n",
        "\n",
        "\n",
        "# Gradio Interface\n",
        "with gr.Blocks(title=\"FraudGuard\", theme=gr.themes.Soft()) as demo:\n",
        "    gr.Markdown(\"\"\"\n",
        "    #  FraudGuard  Real-Time Transaction Fraud Detector\n",
        "    Enter transaction details below. FraudGuard uses AI to detect and **explain** fraud risk.\n",
        "    \"\"\")\n",
        "\n",
        "    with gr.Row():\n",
        "        amount = gr.Number(label=\"Transaction Amount ($)\", value=100.0)\n",
        "        hour = gr.Slider(0, 23, step=1, label=\"Hour of Day\", value=14)\n",
        "        country = gr.Dropdown([\"US\", \"Nigeria\", \"Russia\", \"China\", \"UK\"], label=\"Country\", value=\"US\")\n",
        "        merchant_category = gr.Dropdown([\"Retail\", \"Health\", \"Crypto\", \"Gambling\", \"Travel\"],\n",
        "                                        label=\"Merchant Category\", value=\"Retail\")\n",
        "        is_weekend = gr.Checkbox(label=\"Is Weekend?\")\n",
        "\n",
        "    output = gr.Textbox(label=\"Risk Status\")\n",
        "    explanation = gr.Plot(label=\"Why This Decision? (SHAP Explanation)\")\n",
        "\n",
        "    submit_btn = gr.Button(\" Analyze Transaction\")\n",
        "    submit_btn.click(\n",
        "        fn=predict_fraud,\n",
        "        inputs=[amount, hour, country, merchant_category, is_weekend],\n",
        "        outputs=[output, explanation]\n",
        "    )\n",
        "\n",
        "if __name__ == \"__main__\":\n",
        "    demo.launch(share=True)\n",
        "\n",
        "\n"
      ],
      "metadata": {
        "colab": {
          "base_uri": "https://localhost:8080/"
        },
        "id": "KKbHuoMgKyhq",
        "outputId": "864f4030-f7c8-405c-9b20-7c9d98435832"
      },
      "execution_count": null,
      "outputs": [
        {
          "output_type": "stream",
          "name": "stdout",
          "text": [
            "Overwriting app.py\n"
          ]
        }
      ]
    },
    {
      "cell_type": "code",
      "source": [
        "import shutil\n",
        "import os\n",
        "\n",
        "os.makedirs(\"/content/drive/MyDrive/FraudGuard_Project\", exist_ok=True)\n",
        "shutil.copy(\"parser.py\", \"/content/drive/MyDrive/FraudGuard_Project/parser.py\")\n",
        "shutil.copy(\"fraud_model.py\", \"/content/drive/MyDrive/FraudGuard_Project/fraud_model.py\")\n",
        "shutil.copy(\"app.py\", \"/content/drive/MyDrive/FraudGuard_Project/app.py\")\n",
        "\n",
        "print(\"All things are safe\")"
      ],
      "metadata": {
        "id": "VELjXzflLE6u",
        "colab": {
          "base_uri": "https://localhost:8080/"
        },
        "outputId": "959c2358-7309-47c3-a26f-fc880be55477"
      },
      "execution_count": null,
      "outputs": [
        {
          "output_type": "stream",
          "name": "stdout",
          "text": [
            "All things are safe\n"
          ]
        }
      ]
    },
    {
      "cell_type": "code",
      "source": [
        "!python app.py"
      ],
      "metadata": {
        "colab": {
          "base_uri": "https://localhost:8080/"
        },
        "id": "sGrwMi2eYX2N",
        "outputId": "a1edeb8d-cd51-420d-e407-ac7961703baa",
        "collapsed": true
      },
      "execution_count": null,
      "outputs": [
        {
          "output_type": "stream",
          "name": "stdout",
          "text": [
            "* Running on local URL:  http://127.0.0.1:7860\n",
            "* Running on public URL: https://855058e9f4b138d96a.gradio.live\n",
            "\n",
            "This share link expires in 1 week. For free permanent hosting and GPU upgrades, run `gradio deploy` from the terminal in the working directory to deploy to Hugging Face Spaces (https://huggingface.co/spaces)\n",
            "Keyboard interruption in main thread... closing server.\n",
            "Traceback (most recent call last):\n",
            "  File \"/usr/local/lib/python3.11/dist-packages/gradio/blocks.py\", line 3107, in block_thread\n",
            "    time.sleep(0.1)\n",
            "KeyboardInterrupt\n",
            "\n",
            "During handling of the above exception, another exception occurred:\n",
            "\n",
            "Traceback (most recent call last):\n",
            "  File \"/content/app.py\", line 91, in <module>\n",
            "    demo.launch(share=True)\n",
            "  File \"/usr/local/lib/python3.11/dist-packages/gradio/blocks.py\", line 3013, in launch\n",
            "    self.block_thread()\n",
            "  File \"/usr/local/lib/python3.11/dist-packages/gradio/blocks.py\", line 3111, in block_thread\n",
            "    self.server.close()\n",
            "  File \"/usr/local/lib/python3.11/dist-packages/gradio/http_server.py\", line 69, in close\n",
            "    self.thread.join(timeout=5)\n",
            "  File \"/usr/lib/python3.11/threading.py\", line 1123, in join\n",
            "    self._wait_for_tstate_lock(timeout=max(timeout, 0))\n",
            "  File \"/usr/lib/python3.11/threading.py\", line 1139, in _wait_for_tstate_lock\n",
            "    if lock.acquire(block, timeout):\n",
            "       ^^^^^^^^^^^^^^^^^^^^^^^^^^^^\n",
            "KeyboardInterrupt\n",
            "Killing tunnel 127.0.0.1:7860 <> https://855058e9f4b138d96a.gradio.live\n",
            "^C\n"
          ]
        }
      ]
    },
    {
      "cell_type": "code",
      "source": [],
      "metadata": {
        "id": "bp4pNJp5Zq9n"
      },
      "execution_count": null,
      "outputs": []
    }
  ]
}